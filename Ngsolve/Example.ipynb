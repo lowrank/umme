{
 "cells": [
  {
   "cell_type": "code",
   "execution_count": 1,
   "id": "96266b97-1b91-4a51-bfe1-b3807b85e922",
   "metadata": {},
   "outputs": [],
   "source": [
    "from UMMEG import *\n",
    "\n",
    "geometry = SplineGeometry()\n",
    "\n",
    "geometry.AddCircle((0.0, 0.0), 1.0)\n",
    "\n",
    "ngmesh = geometry.GenerateMesh(maxh=0.02)\n",
    "mesh = Mesh(ngmesh)\n",
    "mesh.Curve(3)"
   ]
  },
  {
   "cell_type": "code",
   "execution_count": 2,
   "id": "e03842a3-56b6-4022-9f38-9a2d23d7d6aa",
   "metadata": {},
   "outputs": [],
   "source": [
    "# Background coefficients.\n",
    "\n",
    "mu  = CoefficientFunction(1.0)\n",
    "\n",
    "\n",
    "# Should have large contrasts.\n",
    "eps0 = 70.0\n",
    "eps = CoefficientFunction(eps0 -   \\\n",
    "                          7.0 * IfPos( ( x-0.5)**2 + ( y-0.05 )**2 - 0.35**2 , 0,\\\n",
    "                                 1.0 + cos( sqrt( (x-0.5)**2 + (y-0.05)**2 ) *  np.pi / 0.35 )) - \\\n",
    "                          15.0 *IfPos( (x+0.4)**2 + (y+0.2)**2 - 0.3**2, 0. ,\\\n",
    "                                 1.0 + cos( sqrt( (x+0.4)**2 + (y+0.2)**2 ) * np.pi / 0.3 )) - \\\n",
    "                          26.0 *IfPos( (x+0.1)**2 + (y-0.7)**2 - 0.2**2 ,  0,\\\n",
    "                                 1.0 + cos( sqrt( (x+0.1)**2 + (y-0.7)**2 ) * np.pi / 0.2 ))\\\n",
    "                         )\n",
    "\n",
    "sigma = CoefficientFunction( 0.00 * IfPos( ( x-0.0)**2 + ( y-0.0 )**2 - 1.0**2 , 0,\\\n",
    "                                 1.0 + cos( sqrt( (x-0.0)**2 + (y-0.0)**2 ) *  np.pi / 1.0) )  + \\\n",
    "                          0.0005 *IfPos( ( x-0.5)**2 + ( y-0.05 )**2 - 0.35**2 , 0,\\\n",
    "                                 1.0 + cos( sqrt( (x-0.5)**2 + (y-0.05)**2 ) *  np.pi / 0.35 ) ) + \\\n",
    "                          0.0002 *IfPos( (x+0.4)**2 + (y+0.2)**2 - 0.3**2, 0, \\\n",
    "                                 1.0 + cos( sqrt( (x+0.4)**2 + (y+0.2)**2 ) * np.pi / 0.3 ) ) + \\\n",
    "                          0.0001 *IfPos( (x+0.1)**2 + (y-0.7)**2 - 0.2**2 , 0, \\\n",
    "                                 1.0 + cos( sqrt( (x+0.1)**2 + (y-0.7)**2 ) * np.pi / 0.2 ) ) \\\n",
    "                           )\n",
    "\n",
    "# frequency\n",
    "freq = 0.5 * 2 * np.pi"
   ]
  },
  {
   "cell_type": "code",
   "execution_count": 3,
   "id": "57def028-467e-4078-bc4f-bfc58cc078b2",
   "metadata": {},
   "outputs": [
    {
     "data": {
      "text/plain": [
       "'eps'"
      ]
     },
     "execution_count": 3,
     "metadata": {},
     "output_type": "execute_result"
    }
   ],
   "source": [
    "vtk = VTKOutput(ma=mesh,\n",
    "                coefs=[eps],\n",
    "                names=[\"eps\"],\n",
    "                filename='eps')\n",
    "# Exporting the results:\n",
    "vtk.Do()"
   ]
  },
  {
   "cell_type": "code",
   "execution_count": 4,
   "id": "b417e5af-3471-421f-9798-68b04d24d24f",
   "metadata": {},
   "outputs": [
    {
     "data": {
      "text/plain": [
       "'sigma'"
      ]
     },
     "execution_count": 4,
     "metadata": {},
     "output_type": "execute_result"
    }
   ],
   "source": [
    "vtk = VTKOutput(ma=mesh,\n",
    "                coefs=[sigma],\n",
    "                names=[\"sigma\"],\n",
    "                filename='sigma')\n",
    "# Exporting the results:\n",
    "vtk.Do()"
   ]
  },
  {
   "cell_type": "code",
   "execution_count": 5,
   "id": "875bb7ee-6d64-4322-aeff-c23e82cce151",
   "metadata": {},
   "outputs": [],
   "source": [
    "# Source function\n",
    "Jx = CoefficientFunction(\\\n",
    "                          0.75 * IfPos( ( x-0.1)**2 + ( y-0.1 )**2 - 0.2**2 , 0,\\\n",
    "                                 1.0 + cos( sqrt( (x-0.1)**2 + (y-0.1)**2 ) *  np.pi / 0.2 ) ) + \\\n",
    "                          1.2 * IfPos( (x - 0.5)**2 + (y-0.5)**2 - 0.2**2 , 0, \\\n",
    "                                 1.0 + cos( sqrt( (x - 0.5)**2 + (y-0.5)**2 ) * np.pi / 0.2 ) )+ \\\n",
    "                          0.55 * IfPos( (x + 0.3)**2 + (y + 0.3)**2 - 0.2**2, 0, \\\n",
    "                                 1.0 + cos( sqrt( (x + 0.3)**2 + (y + 0.3)**2 ) * np.pi / 0.2 ) ) + \\\n",
    "                          0.85  * IfPos( (x - 0.5)**2 + (y + 0.5)**2 - 0.2**2 , 0, \\\n",
    "                                 1.0 + cos( sqrt( (x - 0.5)**2 + (y + 0.5)**2 ) * np.pi / 0.2 ) ) + \\\n",
    "                          0.35  * IfPos( (x + 0.5)**2 + (y - 0.5)**2 - 0.2**2 , 0, \\\n",
    "                                 1.0 + cos( sqrt( (x + 0.5)**2 + (y - 0.5)**2 ) * np.pi / 0.2 ) ) \\\n",
    "                        )\n",
    "Jy = CoefficientFunction(\\\n",
    "                          0.35 * IfPos( ( x+0.6)**2 + ( y-0.1 )**2 - 0.2**2 , 0,\\\n",
    "                                 1.0 + cos( sqrt( (x+0.6)**2 + (y-0.1)**2 ) *  np.pi / 0.2 ) ) + \\\n",
    "                          2.15 * IfPos( (x + 0.2)**2 + (y+0.3)**2 - 0.2**2 , 0, \\\n",
    "                                 1.0 + cos( sqrt( (x + 0.2)**2 + (y+0.3)**2 ) * np.pi / 0.2 ) )+ \\\n",
    "                          0.55 * IfPos( (x -0.2)**2 + (y + 0.6)**2 - 0.2**2, 0, \\\n",
    "                                 1.0 + cos( sqrt( (x - 0.2)**2 + (y + 0.6)**2 ) * np.pi / 0.2 ) ) + \\\n",
    "                          1.85  * IfPos( (x - 0.5)**2 + (y - 0.5)**2 - 0.2**2 , 0, \\\n",
    "                                 1.0 + cos( sqrt( (x - 0.5)**2 + (y - 0.5)**2 ) * np.pi / 0.2 ) ) + \\\n",
    "                          0.75  * IfPos( (x + 0.5)**2 + (y + 0.5)**2 - 0.2**2 , 0, \\\n",
    "                                 1.0 + cos( sqrt( (x + 0.5)**2 + (y + 0.5)**2 ) * np.pi / 0.2 ) ) \\\n",
    "                        )"
   ]
  },
  {
   "cell_type": "code",
   "execution_count": 6,
   "id": "9e14ca7a-aa48-4189-927b-074caf5d2a6b",
   "metadata": {},
   "outputs": [
    {
     "data": {
      "text/plain": [
       "'Jy'"
      ]
     },
     "execution_count": 6,
     "metadata": {},
     "output_type": "execute_result"
    }
   ],
   "source": [
    "vtk = VTKOutput(ma=mesh,\n",
    "                coefs=[Jx],\n",
    "                names=[\"Jx\"],\n",
    "                filename='Jx')\n",
    "# Exporting the results:\n",
    "vtk.Do()\n",
    "\n",
    "vtk = VTKOutput(ma=mesh,\n",
    "                coefs=[Jy],\n",
    "                names=[\"Jy\"],\n",
    "                filename='Jy')\n",
    "# Exporting the results:\n",
    "vtk.Do()"
   ]
  },
  {
   "cell_type": "code",
   "execution_count": 7,
   "id": "44031e65-6972-48d6-9632-81f9b7001870",
   "metadata": {},
   "outputs": [],
   "source": [
    "Ix = 0.\n",
    "Iy = 0."
   ]
  },
  {
   "cell_type": "code",
   "execution_count": 8,
   "id": "bd015840-698b-4bf2-968f-38f62014f9be",
   "metadata": {},
   "outputs": [],
   "source": [
    "class Arg(object):\n",
    "    pass\n",
    "\n",
    "args = Arg()\n",
    "args.frequency    = freq\n",
    "args.permittivity = eps\n",
    "args.permeability = mu\n",
    "args.conductivity = sigma\n",
    "args.source       = CoefficientFunction((Jx, Jy))\n",
    "args.imp          = CoefficientFunction((Ix, Iy))\n",
    "args.mesh         = mesh\n",
    "args.deg          = 2\n",
    "args.eps0         = eps0"
   ]
  },
  {
   "cell_type": "code",
   "execution_count": 9,
   "id": "17725dd8-a1c0-4a1d-ba05-d025883e1a60",
   "metadata": {},
   "outputs": [],
   "source": [
    "m = UMMEG(args)\n",
    "A, b = m.construct_variational_form()\n",
    "B = m.construct_linear_form()\n",
    "Sol  = m.solve(A, b, \"result\")"
   ]
  },
  {
   "cell_type": "code",
   "execution_count": 10,
   "id": "197512a6-0b30-445d-966f-23fedc1934d9",
   "metadata": {},
   "outputs": [],
   "source": [
    "Draw(Sol)"
   ]
  },
  {
   "cell_type": "code",
   "execution_count": 11,
   "id": "6f1d1b9f-3349-4964-a0f9-4054f79bb5d3",
   "metadata": {},
   "outputs": [],
   "source": [
    "freqEps = freq * sqrt(eps0)\n",
    "\n",
    "# Try two \"orthogonal\" plane waves.\n",
    "Ix = CoefficientFunction(1J * freqEps  * (-( y+1 ) * exp(-1J * freqEps  * y)))\n",
    "Iy = CoefficientFunction(1J * freqEps  * (x * exp(-1J * freqEps  * y))) "
   ]
  },
  {
   "cell_type": "code",
   "execution_count": 12,
   "id": "da80b46d-9dea-4c72-b917-693b13ce9a4b",
   "metadata": {},
   "outputs": [],
   "source": [
    "m.source       = CoefficientFunction((0., 0.))\n",
    "m.imp          = CoefficientFunction((Ix, Iy))"
   ]
  },
  {
   "cell_type": "code",
   "execution_count": 13,
   "id": "44a4477f-6ae0-4911-adc2-a7de681fc054",
   "metadata": {},
   "outputs": [],
   "source": [
    "A, b = m.construct_variational_form()\n",
    "F = m.solve(A, b, \"result_F\")"
   ]
  },
  {
   "cell_type": "code",
   "execution_count": 14,
   "id": "a528b685-99e8-4cdf-9c5b-eab601fbba59",
   "metadata": {},
   "outputs": [],
   "source": [
    "Draw(F)"
   ]
  },
  {
   "cell_type": "code",
   "execution_count": 15,
   "id": "81918db5-f743-4eae-bed4-3096a3d6aa90",
   "metadata": {},
   "outputs": [],
   "source": [
    "Ix = CoefficientFunction(1J * freqEps  * (y * exp(-1J * freqEps  * x))) \n",
    "Iy = CoefficientFunction(1J * freqEps  * (-(x+1) * exp(-1J * freqEps  * x))) "
   ]
  },
  {
   "cell_type": "code",
   "execution_count": 16,
   "id": "885bc50e-6d06-4c29-99d3-be6a44870dc6",
   "metadata": {},
   "outputs": [],
   "source": [
    "m.source       = CoefficientFunction((0., 0.))\n",
    "m.imp          = CoefficientFunction((Ix, Iy))"
   ]
  },
  {
   "cell_type": "code",
   "execution_count": 17,
   "id": "2515d018-9421-4d18-9309-2e1e011e6887",
   "metadata": {},
   "outputs": [],
   "source": [
    "A, b = m.construct_variational_form()\n",
    "G = m.solve(A, b, \"result_G\")"
   ]
  },
  {
   "cell_type": "code",
   "execution_count": 18,
   "id": "ebf67f8e-8150-4624-ac76-41d1a1419eea",
   "metadata": {},
   "outputs": [],
   "source": [
    "Draw(G)"
   ]
  },
  {
   "cell_type": "code",
   "execution_count": 19,
   "id": "f23bef99-17a4-4738-993a-aadddeb7410a",
   "metadata": {},
   "outputs": [],
   "source": [
    "def add_noise(output, lvl):\n",
    "    output.vec.data.FV().NumPy()[:] =  output.vec.data.FV().NumPy()[:] * (1 + lvl * ( 2 * np.random.rand(1, output.vec.size) - 1) )"
   ]
  },
  {
   "cell_type": "code",
   "execution_count": 20,
   "id": "dd96dee8-ad30-4d48-bcf4-94ef3cc5bdb7",
   "metadata": {},
   "outputs": [],
   "source": [
    "# CASE 1\n",
    "gamma_mu = 0.15\n",
    "gamma_J = -0.15\n",
    "gamma_eps = 0.1\n",
    "gamma_sig = 0.2"
   ]
  },
  {
   "cell_type": "code",
   "execution_count": 21,
   "id": "d9b0a81d-7cec-4af7-b2af-f6a6dd0e7900",
   "metadata": {},
   "outputs": [],
   "source": [
    "theta = freq**2 * eps * (gamma_eps + gamma_mu) + \\\n",
    "    1j * freq * sigma * (gamma_mu + gamma_sig)\n",
    "\n",
    "upsilon = 1j * freq * (gamma_mu + gamma_J)"
   ]
  },
  {
   "cell_type": "code",
   "execution_count": 22,
   "id": "8a366fa7-715d-456c-9008-3f9f5771ea77",
   "metadata": {},
   "outputs": [],
   "source": [
    "Hf = ( theta * Sol +  upsilon * args.source) * F \n",
    "Hg = ( theta * Sol +  upsilon * args.source) * G"
   ]
  },
  {
   "cell_type": "code",
   "execution_count": 23,
   "id": "e320373a-d854-47fc-89e9-a1fd1b72e3a9",
   "metadata": {},
   "outputs": [],
   "source": [
    "det = F[0] * G[1] - F[1] * G[0]\n",
    "X = G[1] * Hf - F[1] * Hg\n",
    "Y = F[0] * Hg - G[0] * Hf\n",
    "\n",
    "X = X/det\n",
    "Y = Y/det\n",
    "\n",
    "Q = CoefficientFunction((X, Y))\n",
    "\n",
    "Q_sub = GridFunction(m.finite_element_space)\n",
    "Q_sub.Set(Q)\n",
    "add_noise(Q_sub, 0.001)\n",
    "Q = Q_sub"
   ]
  },
  {
   "cell_type": "code",
   "execution_count": 24,
   "id": "e03fb9f0-34e8-4dc4-b6a6-46b9c5d32af2",
   "metadata": {},
   "outputs": [],
   "source": [
    "Reconstruction = GridFunction(m.finite_element_space)\n",
    "Reconstruction.Set(Q / theta / (1j * freq))"
   ]
  },
  {
   "cell_type": "code",
   "execution_count": 25,
   "id": "b529b545-f5b7-4489-be2d-5b253cea6ecf",
   "metadata": {},
   "outputs": [],
   "source": [
    "SOURCE = GridFunction(m.finite_element_space)\n",
    "\n",
    "SOURCE.vec.data = B.mat.Inverse() * (A.mat * Reconstruction.vec)"
   ]
  },
  {
   "cell_type": "code",
   "execution_count": 26,
   "id": "19bbcb8a-d04b-4418-b52d-13e614b541f8",
   "metadata": {},
   "outputs": [],
   "source": [
    "Draw(SOURCE)"
   ]
  },
  {
   "cell_type": "code",
   "execution_count": 27,
   "id": "a9af53ca-963a-45a7-9016-578d4eda7250",
   "metadata": {},
   "outputs": [
    {
     "data": {
      "text/plain": [
       "'Case_1_source_imag'"
      ]
     },
     "execution_count": 27,
     "metadata": {},
     "output_type": "execute_result"
    }
   ],
   "source": [
    "vtk = VTKOutput(ma=mesh,\n",
    "                coefs=[SOURCE.real],\n",
    "                names=[\"source\"],\n",
    "                filename='Case_1_source_real')\n",
    "# Exporting the results:\n",
    "vtk.Do()\n",
    "\n",
    "vtk = VTKOutput(ma=mesh,\n",
    "                coefs=[SOURCE.imag],\n",
    "                names=[\"source\"],\n",
    "                filename='Case_1_source_imag')\n",
    "# Exporting the results:\n",
    "vtk.Do()"
   ]
  },
  {
   "cell_type": "code",
   "execution_count": 28,
   "id": "db8d98c8-f554-4ce8-957f-e04fb1019b5c",
   "metadata": {},
   "outputs": [],
   "source": [
    "Diff = SOURCE - args.source\n",
    "DiffFunction = GridFunction(m.finite_element_space)\n",
    "DiffFunction.Set(Diff)"
   ]
  },
  {
   "cell_type": "code",
   "execution_count": 29,
   "id": "5050cecb-043b-4658-a76a-9255248eaf70",
   "metadata": {},
   "outputs": [],
   "source": [
    "Draw(DiffFunction)"
   ]
  },
  {
   "cell_type": "code",
   "execution_count": 30,
   "id": "204b1247-cc6b-4bd2-a655-4193b952460d",
   "metadata": {},
   "outputs": [
    {
     "data": {
      "text/plain": [
       "'Case_1_sourcediff_imag'"
      ]
     },
     "execution_count": 30,
     "metadata": {},
     "output_type": "execute_result"
    }
   ],
   "source": [
    "vtk = VTKOutput(ma=mesh,\n",
    "                coefs=[DiffFunction.real],\n",
    "                names=[\"source\"],\n",
    "                filename='Case_1_sourcediff_real')\n",
    "# Exporting the results:\n",
    "vtk.Do()\n",
    "\n",
    "vtk = VTKOutput(ma=mesh,\n",
    "                coefs=[DiffFunction.imag],\n",
    "                names=[\"source\"],\n",
    "                filename='Case_1_sourcediff_imag')\n",
    "# Exporting the results:\n",
    "vtk.Do()"
   ]
  },
  {
   "cell_type": "code",
   "execution_count": 31,
   "id": "c5f566ee-0f98-442c-960e-6907731dabc8",
   "metadata": {},
   "outputs": [],
   "source": [
    "# CASE 5 (CASE 6 run with gamma eps = 0.2)\n",
    "gamma_mu = 0.15\n",
    "gamma_J = 0.5\n",
    "gamma_eps = 0.2\n",
    "gamma_sig = 0.2"
   ]
  },
  {
   "cell_type": "code",
   "execution_count": 32,
   "id": "fe137636-0c7d-4454-8ba2-3db264d08e23",
   "metadata": {},
   "outputs": [],
   "source": [
    "theta = freq**2 * eps * (gamma_eps + gamma_mu) + \\\n",
    "    1j * freq * sigma * (gamma_mu + gamma_sig)\n",
    "\n",
    "upsilon = 1j * freq * (gamma_mu + gamma_J)"
   ]
  },
  {
   "cell_type": "code",
   "execution_count": 33,
   "id": "7eba271c-2826-4818-b469-4b12b5a3bd31",
   "metadata": {},
   "outputs": [],
   "source": [
    "Hf = ( theta * Sol +  upsilon * args.source) * F\n",
    "Hg = ( theta * Sol +  upsilon * args.source) * G"
   ]
  },
  {
   "cell_type": "code",
   "execution_count": 34,
   "id": "be4db2a1-7f87-44e7-bcc9-15f036b7af93",
   "metadata": {},
   "outputs": [],
   "source": [
    "det = F[0] * G[1] - F[1] * G[0]\n",
    "X = G[1] * Hf - F[1] * Hg\n",
    "Y = F[0] * Hg - G[0] * Hf\n",
    "\n",
    "X = X/det\n",
    "Y = Y/det\n",
    "\n",
    "Q = CoefficientFunction((X, Y))\n",
    "\n",
    "Q_sub = GridFunction(m.finite_element_space)\n",
    "Q_sub.Set(Q)\n",
    "add_noise(Q_sub, 0.01)\n",
    "Q = Q_sub"
   ]
  },
  {
   "cell_type": "code",
   "execution_count": 35,
   "id": "5ed27926-26b1-4de5-846b-592809314d1f",
   "metadata": {},
   "outputs": [],
   "source": [
    "# See Equation (41)\n",
    "f = Q / (gamma_mu + gamma_J)\n",
    "param_a = freq**2 * eps* (1 - (gamma_mu + gamma_eps)/(gamma_mu + gamma_J))\n",
    "param_b = freq * sigma * (1 - (gamma_mu + gamma_sig)/(gamma_mu + gamma_J))"
   ]
  },
  {
   "cell_type": "code",
   "execution_count": 36,
   "id": "845ed049-6896-47f2-a0a1-1a1a15ed05ed",
   "metadata": {},
   "outputs": [],
   "source": [
    "# at boundary, the impedance boundary is kept.\n",
    "Ix = 0.\n",
    "Iy = 0."
   ]
  },
  {
   "cell_type": "code",
   "execution_count": 37,
   "id": "0eeb1b24-3838-4074-b493-0029eefd95a3",
   "metadata": {},
   "outputs": [],
   "source": [
    "m.source       = f / (1J * freq)\n",
    "m.imp          = CoefficientFunction((Ix, Iy))\n",
    "m.set_coefficient(param_a, param_b)"
   ]
  },
  {
   "cell_type": "code",
   "execution_count": 38,
   "id": "54e9d90d-fd8d-4206-845f-cd93bc96a353",
   "metadata": {},
   "outputs": [],
   "source": [
    "modified_A, b = m.construct_variational_form()\n",
    "E = m.solve(modified_A, b, \"\") "
   ]
  },
  {
   "cell_type": "code",
   "execution_count": 39,
   "id": "a8df7384-dff0-4d71-aa1b-a7c530f07343",
   "metadata": {},
   "outputs": [],
   "source": [
    "Reconstruction = GridFunction(m.finite_element_space)\n",
    "Reconstruction.Set(E / (1J * freq))"
   ]
  },
  {
   "cell_type": "code",
   "execution_count": 40,
   "id": "741b524d-dabf-4464-9f70-ae1be71ee1cf",
   "metadata": {},
   "outputs": [],
   "source": [
    "SOURCE = GridFunction(m.finite_element_space)\n",
    "\n",
    "SOURCE.vec.data = B.mat.Inverse() * (A.mat * Reconstruction.vec)"
   ]
  },
  {
   "cell_type": "code",
   "execution_count": 41,
   "id": "e5d38bfd-d307-4170-82ff-716fe18f1bda",
   "metadata": {},
   "outputs": [],
   "source": [
    "Draw(SOURCE)"
   ]
  },
  {
   "cell_type": "code",
   "execution_count": 42,
   "id": "b2995ef0-6a18-4da8-9fe2-4aa8d7d286dd",
   "metadata": {},
   "outputs": [
    {
     "data": {
      "text/plain": [
       "'Case_6_source_imag'"
      ]
     },
     "execution_count": 42,
     "metadata": {},
     "output_type": "execute_result"
    }
   ],
   "source": [
    "vtk = VTKOutput(ma=mesh,\n",
    "                coefs=[SOURCE.real],\n",
    "                names=[\"source\"],\n",
    "                filename='Case_6_source_real')\n",
    "# Exporting the results:\n",
    "vtk.Do()\n",
    "\n",
    "vtk = VTKOutput(ma=mesh,\n",
    "                coefs=[SOURCE.imag],\n",
    "                names=[\"source\"],\n",
    "                filename='Case_6_source_imag')\n",
    "# Exporting the results:\n",
    "vtk.Do()"
   ]
  },
  {
   "cell_type": "code",
   "execution_count": 43,
   "id": "6d32e3c0-ee99-4cbb-b2a7-8b218bbd5c76",
   "metadata": {},
   "outputs": [],
   "source": [
    "Diff = SOURCE - args.source\n",
    "DiffFunction = GridFunction(m.finite_element_space)\n",
    "DiffFunction.Set(Diff)"
   ]
  },
  {
   "cell_type": "code",
   "execution_count": 44,
   "id": "218bc69e-b903-4b5f-8aa8-3e49ff7152b2",
   "metadata": {},
   "outputs": [],
   "source": [
    "Draw(DiffFunction)"
   ]
  },
  {
   "cell_type": "code",
   "execution_count": 45,
   "id": "5ebc8873-3c11-4595-bd60-d0d3f94a307a",
   "metadata": {},
   "outputs": [
    {
     "data": {
      "text/plain": [
       "'Case_6_sourcediff_imag'"
      ]
     },
     "execution_count": 45,
     "metadata": {},
     "output_type": "execute_result"
    }
   ],
   "source": [
    "vtk = VTKOutput(ma=mesh,\n",
    "                coefs=[DiffFunction.real],\n",
    "                names=[\"source\"],\n",
    "                filename='Case_6_sourcediff_real')\n",
    "# Exporting the results:\n",
    "vtk.Do()\n",
    "\n",
    "vtk = VTKOutput(ma=mesh,\n",
    "                coefs=[DiffFunction.imag],\n",
    "                names=[\"source\"],\n",
    "                filename='Case_6_sourcediff_imag')\n",
    "# Exporting the results:\n",
    "vtk.Do()"
   ]
  }
 ],
 "metadata": {
  "kernelspec": {
   "display_name": "Python (work)",
   "language": "python",
   "name": "work"
  },
  "language_info": {
   "codemirror_mode": {
    "name": "ipython",
    "version": 3
   },
   "file_extension": ".py",
   "mimetype": "text/x-python",
   "name": "python",
   "nbconvert_exporter": "python",
   "pygments_lexer": "ipython3",
   "version": "3.8.10"
  },
  "toc-autonumbering": true,
  "toc-showmarkdowntxt": true
 },
 "nbformat": 4,
 "nbformat_minor": 5
}
